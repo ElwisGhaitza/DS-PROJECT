{
  "cells": [
    {
      "cell_type": "code",
      "execution_count": 1,
      "metadata": {
        "id": "9c29dd46"
      },
      "outputs": [],
      "source": [
        "##Import Libraries\n",
        "import pandas as pd\n",
        "import string \n",
        "import re\n",
        "import nltk\n",
        "from nltk.tokenize import word_tokenize\n",
        "import pickle "
      ],
      "id": "9c29dd46"
    },
    {
      "cell_type": "code",
      "execution_count": 32,
      "metadata": {
        "colab": {
          "base_uri": "https://localhost:8080/"
        },
        "id": "jomxYCfPdtkR",
        "outputId": "e0d890c7-c045-4de0-d288-30a2b958abc1"
      },
      "outputs": [
        {
          "output_type": "stream",
          "name": "stdout",
          "text": [
            "/usr/local/lib/python3.7/dist-packages/gdown/cli.py:131: FutureWarning: Option `--id` was deprecated in version 4.3.1 and will be removed in 5.0. You don't need to pass it anymore to use a file ID.\n",
            "  category=FutureWarning,\n",
            "Downloading...\n",
            "From: https://drive.google.com/uc?id=1epokL1OkBNIyWIsGoDXjdrJVQw73zlAL\n",
            "To: /content/wisata_bali.csv\n",
            "100% 35.0k/35.0k [00:00<00:00, 41.3MB/s]\n"
          ]
        }
      ],
      "source": [
        "!gdown --id 1epokL1OkBNIyWIsGoDXjdrJVQw73zlAL"
      ],
      "id": "jomxYCfPdtkR"
    },
    {
      "cell_type": "code",
      "execution_count": 33,
      "metadata": {
        "id": "f2ea2cb1",
        "colab": {
          "base_uri": "https://localhost:8080/",
          "height": 652
        },
        "outputId": "73b29246-a07a-44f9-c1a9-b02474ccef25"
      },
      "outputs": [
        {
          "output_type": "execute_result",
          "data": {
            "text/plain": [
              "         category                                             tags  \\\n",
              "0  ['Agrowisata']   Agrowisata, Gianyar, Dekat dari Bandara, Mahal   \n",
              "1  ['Agrowisata']  Agrowisata, Gianyar, Sedang dari Bandara, Mahal   \n",
              "2  ['Agrowisata']  Agrowisata, Denpasar, Dekat dari Bandara, Murah   \n",
              "3  ['Agrowisata']  Agrowisata, Gianyar, Dekat dari Bandara, Gratis   \n",
              "4  ['Agrowisata']  Agrowisata, Tabanan, Sedang dari Bandara, Murah   \n",
              "\n",
              "   weekend_price  weekday_price distance  rating            place_name  \\\n",
              "0          50000          50000    dekat     3.0     Agrowisata Satria   \n",
              "1         300000         300000   sedang     5.0      Aloha Ubud Swing   \n",
              "2          35000          30000    dekat     4.0     Big Garden Corner   \n",
              "3              0              0    dekat     4.5   Campuhan Ridge Walk   \n",
              "4          40000          40000   sedang     4.5  Jatiluwih Green Land   \n",
              "\n",
              "       city                                              image  \\\n",
              "0   Gianyar  https://i0.wp.com/sabani.com/wp-content/upload...   \n",
              "1   Gianyar  https://static.cityspride.com/img/ruuu_1101/pr...   \n",
              "2  Denpasar  https://www.rentalmobilbali.net/wp-content/upl...   \n",
              "3   Gianyar  https://www.omnivagant.com/wp-content/uploads/...   \n",
              "4   Tabanan  https://img.freepik.com/premium-photo/green-ri...   \n",
              "\n",
              "                                         description  \n",
              "0  ['Agrowisata Satria menawarkan 'rasa' Bali pad...  \n",
              "1  ['Ajaklah orang-orang tercinta untuk mencoba a...  \n",
              "2  ['Objek wisata Big Garden Corner Sanur adalah ...  \n",
              "3  ['Campuhan Ridge Walk adalah sebuah trek joggi...  \n",
              "4  ['Nominasi untuk penunjukan sebagai situs Wari...  "
            ],
            "text/html": [
              "\n",
              "  <div id=\"df-9251deb1-ac40-4eeb-9587-27ecb85bdb7f\">\n",
              "    <div class=\"colab-df-container\">\n",
              "      <div>\n",
              "<style scoped>\n",
              "    .dataframe tbody tr th:only-of-type {\n",
              "        vertical-align: middle;\n",
              "    }\n",
              "\n",
              "    .dataframe tbody tr th {\n",
              "        vertical-align: top;\n",
              "    }\n",
              "\n",
              "    .dataframe thead th {\n",
              "        text-align: right;\n",
              "    }\n",
              "</style>\n",
              "<table border=\"1\" class=\"dataframe\">\n",
              "  <thead>\n",
              "    <tr style=\"text-align: right;\">\n",
              "      <th></th>\n",
              "      <th>category</th>\n",
              "      <th>tags</th>\n",
              "      <th>weekend_price</th>\n",
              "      <th>weekday_price</th>\n",
              "      <th>distance</th>\n",
              "      <th>rating</th>\n",
              "      <th>place_name</th>\n",
              "      <th>city</th>\n",
              "      <th>image</th>\n",
              "      <th>description</th>\n",
              "    </tr>\n",
              "  </thead>\n",
              "  <tbody>\n",
              "    <tr>\n",
              "      <th>0</th>\n",
              "      <td>['Agrowisata']</td>\n",
              "      <td>Agrowisata, Gianyar, Dekat dari Bandara, Mahal</td>\n",
              "      <td>50000</td>\n",
              "      <td>50000</td>\n",
              "      <td>dekat</td>\n",
              "      <td>3.0</td>\n",
              "      <td>Agrowisata Satria</td>\n",
              "      <td>Gianyar</td>\n",
              "      <td>https://i0.wp.com/sabani.com/wp-content/upload...</td>\n",
              "      <td>['Agrowisata Satria menawarkan 'rasa' Bali pad...</td>\n",
              "    </tr>\n",
              "    <tr>\n",
              "      <th>1</th>\n",
              "      <td>['Agrowisata']</td>\n",
              "      <td>Agrowisata, Gianyar, Sedang dari Bandara, Mahal</td>\n",
              "      <td>300000</td>\n",
              "      <td>300000</td>\n",
              "      <td>sedang</td>\n",
              "      <td>5.0</td>\n",
              "      <td>Aloha Ubud Swing</td>\n",
              "      <td>Gianyar</td>\n",
              "      <td>https://static.cityspride.com/img/ruuu_1101/pr...</td>\n",
              "      <td>['Ajaklah orang-orang tercinta untuk mencoba a...</td>\n",
              "    </tr>\n",
              "    <tr>\n",
              "      <th>2</th>\n",
              "      <td>['Agrowisata']</td>\n",
              "      <td>Agrowisata, Denpasar, Dekat dari Bandara, Murah</td>\n",
              "      <td>35000</td>\n",
              "      <td>30000</td>\n",
              "      <td>dekat</td>\n",
              "      <td>4.0</td>\n",
              "      <td>Big Garden Corner</td>\n",
              "      <td>Denpasar</td>\n",
              "      <td>https://www.rentalmobilbali.net/wp-content/upl...</td>\n",
              "      <td>['Objek wisata Big Garden Corner Sanur adalah ...</td>\n",
              "    </tr>\n",
              "    <tr>\n",
              "      <th>3</th>\n",
              "      <td>['Agrowisata']</td>\n",
              "      <td>Agrowisata, Gianyar, Dekat dari Bandara, Gratis</td>\n",
              "      <td>0</td>\n",
              "      <td>0</td>\n",
              "      <td>dekat</td>\n",
              "      <td>4.5</td>\n",
              "      <td>Campuhan Ridge Walk</td>\n",
              "      <td>Gianyar</td>\n",
              "      <td>https://www.omnivagant.com/wp-content/uploads/...</td>\n",
              "      <td>['Campuhan Ridge Walk adalah sebuah trek joggi...</td>\n",
              "    </tr>\n",
              "    <tr>\n",
              "      <th>4</th>\n",
              "      <td>['Agrowisata']</td>\n",
              "      <td>Agrowisata, Tabanan, Sedang dari Bandara, Murah</td>\n",
              "      <td>40000</td>\n",
              "      <td>40000</td>\n",
              "      <td>sedang</td>\n",
              "      <td>4.5</td>\n",
              "      <td>Jatiluwih Green Land</td>\n",
              "      <td>Tabanan</td>\n",
              "      <td>https://img.freepik.com/premium-photo/green-ri...</td>\n",
              "      <td>['Nominasi untuk penunjukan sebagai situs Wari...</td>\n",
              "    </tr>\n",
              "  </tbody>\n",
              "</table>\n",
              "</div>\n",
              "      <button class=\"colab-df-convert\" onclick=\"convertToInteractive('df-9251deb1-ac40-4eeb-9587-27ecb85bdb7f')\"\n",
              "              title=\"Convert this dataframe to an interactive table.\"\n",
              "              style=\"display:none;\">\n",
              "        \n",
              "  <svg xmlns=\"http://www.w3.org/2000/svg\" height=\"24px\"viewBox=\"0 0 24 24\"\n",
              "       width=\"24px\">\n",
              "    <path d=\"M0 0h24v24H0V0z\" fill=\"none\"/>\n",
              "    <path d=\"M18.56 5.44l.94 2.06.94-2.06 2.06-.94-2.06-.94-.94-2.06-.94 2.06-2.06.94zm-11 1L8.5 8.5l.94-2.06 2.06-.94-2.06-.94L8.5 2.5l-.94 2.06-2.06.94zm10 10l.94 2.06.94-2.06 2.06-.94-2.06-.94-.94-2.06-.94 2.06-2.06.94z\"/><path d=\"M17.41 7.96l-1.37-1.37c-.4-.4-.92-.59-1.43-.59-.52 0-1.04.2-1.43.59L10.3 9.45l-7.72 7.72c-.78.78-.78 2.05 0 2.83L4 21.41c.39.39.9.59 1.41.59.51 0 1.02-.2 1.41-.59l7.78-7.78 2.81-2.81c.8-.78.8-2.07 0-2.86zM5.41 20L4 18.59l7.72-7.72 1.47 1.35L5.41 20z\"/>\n",
              "  </svg>\n",
              "      </button>\n",
              "      \n",
              "  <style>\n",
              "    .colab-df-container {\n",
              "      display:flex;\n",
              "      flex-wrap:wrap;\n",
              "      gap: 12px;\n",
              "    }\n",
              "\n",
              "    .colab-df-convert {\n",
              "      background-color: #E8F0FE;\n",
              "      border: none;\n",
              "      border-radius: 50%;\n",
              "      cursor: pointer;\n",
              "      display: none;\n",
              "      fill: #1967D2;\n",
              "      height: 32px;\n",
              "      padding: 0 0 0 0;\n",
              "      width: 32px;\n",
              "    }\n",
              "\n",
              "    .colab-df-convert:hover {\n",
              "      background-color: #E2EBFA;\n",
              "      box-shadow: 0px 1px 2px rgba(60, 64, 67, 0.3), 0px 1px 3px 1px rgba(60, 64, 67, 0.15);\n",
              "      fill: #174EA6;\n",
              "    }\n",
              "\n",
              "    [theme=dark] .colab-df-convert {\n",
              "      background-color: #3B4455;\n",
              "      fill: #D2E3FC;\n",
              "    }\n",
              "\n",
              "    [theme=dark] .colab-df-convert:hover {\n",
              "      background-color: #434B5C;\n",
              "      box-shadow: 0px 1px 3px 1px rgba(0, 0, 0, 0.15);\n",
              "      filter: drop-shadow(0px 1px 2px rgba(0, 0, 0, 0.3));\n",
              "      fill: #FFFFFF;\n",
              "    }\n",
              "  </style>\n",
              "\n",
              "      <script>\n",
              "        const buttonEl =\n",
              "          document.querySelector('#df-9251deb1-ac40-4eeb-9587-27ecb85bdb7f button.colab-df-convert');\n",
              "        buttonEl.style.display =\n",
              "          google.colab.kernel.accessAllowed ? 'block' : 'none';\n",
              "\n",
              "        async function convertToInteractive(key) {\n",
              "          const element = document.querySelector('#df-9251deb1-ac40-4eeb-9587-27ecb85bdb7f');\n",
              "          const dataTable =\n",
              "            await google.colab.kernel.invokeFunction('convertToInteractive',\n",
              "                                                     [key], {});\n",
              "          if (!dataTable) return;\n",
              "\n",
              "          const docLinkHtml = 'Like what you see? Visit the ' +\n",
              "            '<a target=\"_blank\" href=https://colab.research.google.com/notebooks/data_table.ipynb>data table notebook</a>'\n",
              "            + ' to learn more about interactive tables.';\n",
              "          element.innerHTML = '';\n",
              "          dataTable['output_type'] = 'display_data';\n",
              "          await google.colab.output.renderOutput(dataTable, element);\n",
              "          const docLink = document.createElement('div');\n",
              "          docLink.innerHTML = docLinkHtml;\n",
              "          element.appendChild(docLink);\n",
              "        }\n",
              "      </script>\n",
              "    </div>\n",
              "  </div>\n",
              "  "
            ]
          },
          "metadata": {},
          "execution_count": 33
        }
      ],
      "source": [
        "dataset=pd.read_csv(\"wisata_bali.csv\")\n",
        "dataset.head()"
      ],
      "id": "f2ea2cb1"
    },
    {
      "cell_type": "code",
      "execution_count": 34,
      "metadata": {
        "colab": {
          "base_uri": "https://localhost:8080/"
        },
        "id": "93072be1",
        "outputId": "75003c0e-b427-4b9b-80f3-a47e60256ca9"
      },
      "outputs": [
        {
          "output_type": "execute_result",
          "data": {
            "text/plain": [
              "(75, 10)"
            ]
          },
          "metadata": {},
          "execution_count": 34
        }
      ],
      "source": [
        "dataset.shape"
      ],
      "id": "93072be1"
    },
    {
      "cell_type": "code",
      "execution_count": 35,
      "metadata": {
        "colab": {
          "base_uri": "https://localhost:8080/"
        },
        "id": "58207082",
        "outputId": "789bffd3-a115-47a9-cb2d-b50dadbbc00a"
      },
      "outputs": [
        {
          "output_type": "stream",
          "name": "stdout",
          "text": [
            "<class 'pandas.core.frame.DataFrame'>\n",
            "RangeIndex: 75 entries, 0 to 74\n",
            "Data columns (total 10 columns):\n",
            " #   Column         Non-Null Count  Dtype  \n",
            "---  ------         --------------  -----  \n",
            " 0   category       75 non-null     object \n",
            " 1   tags           75 non-null     object \n",
            " 2   weekend_price  75 non-null     int64  \n",
            " 3   weekday_price  75 non-null     int64  \n",
            " 4   distance       75 non-null     object \n",
            " 5   rating         75 non-null     float64\n",
            " 6   place_name     75 non-null     object \n",
            " 7   city           75 non-null     object \n",
            " 8   image          75 non-null     object \n",
            " 9   description    75 non-null     object \n",
            "dtypes: float64(1), int64(2), object(7)\n",
            "memory usage: 6.0+ KB\n"
          ]
        }
      ],
      "source": [
        "dataset.info()"
      ],
      "id": "58207082"
    },
    {
      "cell_type": "markdown",
      "metadata": {
        "id": "e5c965ac"
      },
      "source": [
        "# Pre-Processing"
      ],
      "id": "e5c965ac"
    },
    {
      "cell_type": "markdown",
      "source": [
        "##Remove Character"
      ],
      "metadata": {
        "id": "xj2HkeqbGbGP"
      },
      "id": "xj2HkeqbGbGP"
    },
    {
      "cell_type": "code",
      "source": [
        "#Remove Character Category\n",
        "cat = dataset.category.apply(str)\n",
        "\n",
        "def remove_character(data):\n",
        "    return re.sub(r\"'\", \"\", data)\n",
        "\n",
        "cat = cat.apply(remove_character)\n",
        "\n",
        "def listToStringWithoutBrackets(data):\n",
        "    return str(data).replace('[','').replace(']','')\n",
        "\n",
        "cat = cat.apply(listToStringWithoutBrackets)\n",
        "\n",
        "print(cat)"
      ],
      "metadata": {
        "colab": {
          "base_uri": "https://localhost:8080/"
        },
        "id": "0FcPlfSkGdea",
        "outputId": "e4e980a7-2f8f-445b-fe6a-85163fda8d55"
      },
      "id": "0FcPlfSkGdea",
      "execution_count": 36,
      "outputs": [
        {
          "output_type": "stream",
          "name": "stdout",
          "text": [
            "0     Agrowisata\n",
            "1     Agrowisata\n",
            "2     Agrowisata\n",
            "3     Agrowisata\n",
            "4     Agrowisata\n",
            "         ...    \n",
            "70      Religius\n",
            "71      Religius\n",
            "72      Religius\n",
            "73      Religius\n",
            "74      Religius\n",
            "Name: category, Length: 75, dtype: object\n"
          ]
        }
      ]
    },
    {
      "cell_type": "code",
      "source": [
        "#Remove Character Description\n",
        "desc = dataset.description.apply(str)\n",
        "\n",
        "def remove_character(data):\n",
        "    return re.sub(r\"'\", \"\", data)\n",
        "\n",
        "desc = desc.apply(remove_character)\n",
        "\n",
        "def listToStringWithoutBrackets(data):\n",
        "    return str(data).replace('[','').replace(']','')\n",
        "\n",
        "desc = desc.apply(listToStringWithoutBrackets)\n",
        "\n",
        "print(desc)"
      ],
      "metadata": {
        "colab": {
          "base_uri": "https://localhost:8080/"
        },
        "id": "pbss_eSY1tzj",
        "outputId": "1d380ed6-3002-4d51-d818-d43508767a4d"
      },
      "id": "pbss_eSY1tzj",
      "execution_count": 38,
      "outputs": [
        {
          "output_type": "stream",
          "name": "stdout",
          "text": [
            "0     Agrowisata Satria menawarkan rasa Bali pada se...\n",
            "1     Ajaklah orang-orang tercinta untuk mencoba ayu...\n",
            "2     Objek wisata Big Garden Corner Sanur adalah se...\n",
            "3     Campuhan Ridge Walk adalah sebuah trek jogging...\n",
            "4     Nominasi untuk penunjukan sebagai situs Warisa...\n",
            "                            ...                        \n",
            "70    Pura Saraswati merupakan pura yang didirikan u...\n",
            "71    Pura Taman Ayun di susun dengan konsep taman t...\n",
            "72    Tirta Empul adalah nama sebuah pura Hindu yang...\n",
            "73    Pura yang terletak di ujung barat daya pulau B...\n",
            "74    Ada tiga hal utama yang ada di taman Tirta Gan...\n",
            "Name: description, Length: 75, dtype: object\n"
          ]
        }
      ]
    },
    {
      "cell_type": "code",
      "execution_count": 39,
      "metadata": {
        "colab": {
          "base_uri": "https://localhost:8080/",
          "height": 1000
        },
        "id": "g8h8ZPXEdTJV",
        "outputId": "349fc177-b155-48b6-b5b2-dd794b94a0f1"
      },
      "outputs": [
        {
          "output_type": "execute_result",
          "data": {
            "text/plain": [
              "      category                                             tags  \\\n",
              "0   Agrowisata   Agrowisata, Gianyar, Dekat dari Bandara, Mahal   \n",
              "1   Agrowisata  Agrowisata, Gianyar, Sedang dari Bandara, Mahal   \n",
              "2   Agrowisata  Agrowisata, Denpasar, Dekat dari Bandara, Murah   \n",
              "3   Agrowisata  Agrowisata, Gianyar, Dekat dari Bandara, Gratis   \n",
              "4   Agrowisata  Agrowisata, Tabanan, Sedang dari Bandara, Murah   \n",
              "..         ...                                              ...   \n",
              "70    Religius    Religius, Gianyar, Dekat dari Bandara, Gratis   \n",
              "71    Religius      Religius, Badung, Dekat dari Bandara, Murah   \n",
              "72    Religius    Religius, Gianyar, Sedang dari Bandara, Murah   \n",
              "73    Religius      Religius, Badung, Dekat dari Bandara, Mahal   \n",
              "74    Religius   Religius, Karangasem, Jauh dari Bandara, Murah   \n",
              "\n",
              "    weekend_price  weekday_price distance  rating            place_name  \\\n",
              "0           50000          50000    dekat     3.0     Agrowisata Satria   \n",
              "1          300000         300000   sedang     5.0      Aloha Ubud Swing   \n",
              "2           35000          30000    dekat     4.0     Big Garden Corner   \n",
              "3               0              0    dekat     4.5   Campuhan Ridge Walk   \n",
              "4           40000          40000   sedang     4.5  Jatiluwih Green Land   \n",
              "..            ...            ...      ...     ...                   ...   \n",
              "70              0              0    dekat     4.0        Pura Saraswati   \n",
              "71          15000          15000    dekat     4.0       Pura Taman Ayun   \n",
              "72          30000          30000   sedang     4.5      Pura Tirta Empul   \n",
              "73          50000          50000    dekat     4.0          Pura Uluwatu   \n",
              "74          25000          25000     jauh     4.5          Tirta Gangga   \n",
              "\n",
              "          city                                              image  \\\n",
              "0      Gianyar  https://i0.wp.com/sabani.com/wp-content/upload...   \n",
              "1      Gianyar  https://static.cityspride.com/img/ruuu_1101/pr...   \n",
              "2     Denpasar  https://www.rentalmobilbali.net/wp-content/upl...   \n",
              "3      Gianyar  https://www.omnivagant.com/wp-content/uploads/...   \n",
              "4      Tabanan  https://img.freepik.com/premium-photo/green-ri...   \n",
              "..         ...                                                ...   \n",
              "70     Gianyar  https://liburdulu.com/wp-content/uploads/2020/...   \n",
              "71      Badung  https://img.freepik.com/free-photo/pura-taman-...   \n",
              "72     Gianyar  https://media.istockphoto.com/id/1355012798/ph...   \n",
              "73      Badung  https://museumnusantara.com/wp-content/uploads...   \n",
              "74  Karangasem  https://s3.ap-southeast-2.amazonaws.com/thebal...   \n",
              "\n",
              "                                          description  \n",
              "0   Agrowisata Satria menawarkan rasa Bali pada se...  \n",
              "1   Ajaklah orang-orang tercinta untuk mencoba ayu...  \n",
              "2   Objek wisata Big Garden Corner Sanur adalah se...  \n",
              "3   Campuhan Ridge Walk adalah sebuah trek jogging...  \n",
              "4   Nominasi untuk penunjukan sebagai situs Warisa...  \n",
              "..                                                ...  \n",
              "70  Pura Saraswati merupakan pura yang didirikan u...  \n",
              "71  Pura Taman Ayun di susun dengan konsep taman t...  \n",
              "72  Tirta Empul adalah nama sebuah pura Hindu yang...  \n",
              "73  Pura yang terletak di ujung barat daya pulau B...  \n",
              "74  Ada tiga hal utama yang ada di taman Tirta Gan...  \n",
              "\n",
              "[75 rows x 10 columns]"
            ],
            "text/html": [
              "\n",
              "  <div id=\"df-f954780c-008c-406c-8651-1c39de9a208a\">\n",
              "    <div class=\"colab-df-container\">\n",
              "      <div>\n",
              "<style scoped>\n",
              "    .dataframe tbody tr th:only-of-type {\n",
              "        vertical-align: middle;\n",
              "    }\n",
              "\n",
              "    .dataframe tbody tr th {\n",
              "        vertical-align: top;\n",
              "    }\n",
              "\n",
              "    .dataframe thead th {\n",
              "        text-align: right;\n",
              "    }\n",
              "</style>\n",
              "<table border=\"1\" class=\"dataframe\">\n",
              "  <thead>\n",
              "    <tr style=\"text-align: right;\">\n",
              "      <th></th>\n",
              "      <th>category</th>\n",
              "      <th>tags</th>\n",
              "      <th>weekend_price</th>\n",
              "      <th>weekday_price</th>\n",
              "      <th>distance</th>\n",
              "      <th>rating</th>\n",
              "      <th>place_name</th>\n",
              "      <th>city</th>\n",
              "      <th>image</th>\n",
              "      <th>description</th>\n",
              "    </tr>\n",
              "  </thead>\n",
              "  <tbody>\n",
              "    <tr>\n",
              "      <th>0</th>\n",
              "      <td>Agrowisata</td>\n",
              "      <td>Agrowisata, Gianyar, Dekat dari Bandara, Mahal</td>\n",
              "      <td>50000</td>\n",
              "      <td>50000</td>\n",
              "      <td>dekat</td>\n",
              "      <td>3.0</td>\n",
              "      <td>Agrowisata Satria</td>\n",
              "      <td>Gianyar</td>\n",
              "      <td>https://i0.wp.com/sabani.com/wp-content/upload...</td>\n",
              "      <td>Agrowisata Satria menawarkan rasa Bali pada se...</td>\n",
              "    </tr>\n",
              "    <tr>\n",
              "      <th>1</th>\n",
              "      <td>Agrowisata</td>\n",
              "      <td>Agrowisata, Gianyar, Sedang dari Bandara, Mahal</td>\n",
              "      <td>300000</td>\n",
              "      <td>300000</td>\n",
              "      <td>sedang</td>\n",
              "      <td>5.0</td>\n",
              "      <td>Aloha Ubud Swing</td>\n",
              "      <td>Gianyar</td>\n",
              "      <td>https://static.cityspride.com/img/ruuu_1101/pr...</td>\n",
              "      <td>Ajaklah orang-orang tercinta untuk mencoba ayu...</td>\n",
              "    </tr>\n",
              "    <tr>\n",
              "      <th>2</th>\n",
              "      <td>Agrowisata</td>\n",
              "      <td>Agrowisata, Denpasar, Dekat dari Bandara, Murah</td>\n",
              "      <td>35000</td>\n",
              "      <td>30000</td>\n",
              "      <td>dekat</td>\n",
              "      <td>4.0</td>\n",
              "      <td>Big Garden Corner</td>\n",
              "      <td>Denpasar</td>\n",
              "      <td>https://www.rentalmobilbali.net/wp-content/upl...</td>\n",
              "      <td>Objek wisata Big Garden Corner Sanur adalah se...</td>\n",
              "    </tr>\n",
              "    <tr>\n",
              "      <th>3</th>\n",
              "      <td>Agrowisata</td>\n",
              "      <td>Agrowisata, Gianyar, Dekat dari Bandara, Gratis</td>\n",
              "      <td>0</td>\n",
              "      <td>0</td>\n",
              "      <td>dekat</td>\n",
              "      <td>4.5</td>\n",
              "      <td>Campuhan Ridge Walk</td>\n",
              "      <td>Gianyar</td>\n",
              "      <td>https://www.omnivagant.com/wp-content/uploads/...</td>\n",
              "      <td>Campuhan Ridge Walk adalah sebuah trek jogging...</td>\n",
              "    </tr>\n",
              "    <tr>\n",
              "      <th>4</th>\n",
              "      <td>Agrowisata</td>\n",
              "      <td>Agrowisata, Tabanan, Sedang dari Bandara, Murah</td>\n",
              "      <td>40000</td>\n",
              "      <td>40000</td>\n",
              "      <td>sedang</td>\n",
              "      <td>4.5</td>\n",
              "      <td>Jatiluwih Green Land</td>\n",
              "      <td>Tabanan</td>\n",
              "      <td>https://img.freepik.com/premium-photo/green-ri...</td>\n",
              "      <td>Nominasi untuk penunjukan sebagai situs Warisa...</td>\n",
              "    </tr>\n",
              "    <tr>\n",
              "      <th>...</th>\n",
              "      <td>...</td>\n",
              "      <td>...</td>\n",
              "      <td>...</td>\n",
              "      <td>...</td>\n",
              "      <td>...</td>\n",
              "      <td>...</td>\n",
              "      <td>...</td>\n",
              "      <td>...</td>\n",
              "      <td>...</td>\n",
              "      <td>...</td>\n",
              "    </tr>\n",
              "    <tr>\n",
              "      <th>70</th>\n",
              "      <td>Religius</td>\n",
              "      <td>Religius, Gianyar, Dekat dari Bandara, Gratis</td>\n",
              "      <td>0</td>\n",
              "      <td>0</td>\n",
              "      <td>dekat</td>\n",
              "      <td>4.0</td>\n",
              "      <td>Pura Saraswati</td>\n",
              "      <td>Gianyar</td>\n",
              "      <td>https://liburdulu.com/wp-content/uploads/2020/...</td>\n",
              "      <td>Pura Saraswati merupakan pura yang didirikan u...</td>\n",
              "    </tr>\n",
              "    <tr>\n",
              "      <th>71</th>\n",
              "      <td>Religius</td>\n",
              "      <td>Religius, Badung, Dekat dari Bandara, Murah</td>\n",
              "      <td>15000</td>\n",
              "      <td>15000</td>\n",
              "      <td>dekat</td>\n",
              "      <td>4.0</td>\n",
              "      <td>Pura Taman Ayun</td>\n",
              "      <td>Badung</td>\n",
              "      <td>https://img.freepik.com/free-photo/pura-taman-...</td>\n",
              "      <td>Pura Taman Ayun di susun dengan konsep taman t...</td>\n",
              "    </tr>\n",
              "    <tr>\n",
              "      <th>72</th>\n",
              "      <td>Religius</td>\n",
              "      <td>Religius, Gianyar, Sedang dari Bandara, Murah</td>\n",
              "      <td>30000</td>\n",
              "      <td>30000</td>\n",
              "      <td>sedang</td>\n",
              "      <td>4.5</td>\n",
              "      <td>Pura Tirta Empul</td>\n",
              "      <td>Gianyar</td>\n",
              "      <td>https://media.istockphoto.com/id/1355012798/ph...</td>\n",
              "      <td>Tirta Empul adalah nama sebuah pura Hindu yang...</td>\n",
              "    </tr>\n",
              "    <tr>\n",
              "      <th>73</th>\n",
              "      <td>Religius</td>\n",
              "      <td>Religius, Badung, Dekat dari Bandara, Mahal</td>\n",
              "      <td>50000</td>\n",
              "      <td>50000</td>\n",
              "      <td>dekat</td>\n",
              "      <td>4.0</td>\n",
              "      <td>Pura Uluwatu</td>\n",
              "      <td>Badung</td>\n",
              "      <td>https://museumnusantara.com/wp-content/uploads...</td>\n",
              "      <td>Pura yang terletak di ujung barat daya pulau B...</td>\n",
              "    </tr>\n",
              "    <tr>\n",
              "      <th>74</th>\n",
              "      <td>Religius</td>\n",
              "      <td>Religius, Karangasem, Jauh dari Bandara, Murah</td>\n",
              "      <td>25000</td>\n",
              "      <td>25000</td>\n",
              "      <td>jauh</td>\n",
              "      <td>4.5</td>\n",
              "      <td>Tirta Gangga</td>\n",
              "      <td>Karangasem</td>\n",
              "      <td>https://s3.ap-southeast-2.amazonaws.com/thebal...</td>\n",
              "      <td>Ada tiga hal utama yang ada di taman Tirta Gan...</td>\n",
              "    </tr>\n",
              "  </tbody>\n",
              "</table>\n",
              "<p>75 rows × 10 columns</p>\n",
              "</div>\n",
              "      <button class=\"colab-df-convert\" onclick=\"convertToInteractive('df-f954780c-008c-406c-8651-1c39de9a208a')\"\n",
              "              title=\"Convert this dataframe to an interactive table.\"\n",
              "              style=\"display:none;\">\n",
              "        \n",
              "  <svg xmlns=\"http://www.w3.org/2000/svg\" height=\"24px\"viewBox=\"0 0 24 24\"\n",
              "       width=\"24px\">\n",
              "    <path d=\"M0 0h24v24H0V0z\" fill=\"none\"/>\n",
              "    <path d=\"M18.56 5.44l.94 2.06.94-2.06 2.06-.94-2.06-.94-.94-2.06-.94 2.06-2.06.94zm-11 1L8.5 8.5l.94-2.06 2.06-.94-2.06-.94L8.5 2.5l-.94 2.06-2.06.94zm10 10l.94 2.06.94-2.06 2.06-.94-2.06-.94-.94-2.06-.94 2.06-2.06.94z\"/><path d=\"M17.41 7.96l-1.37-1.37c-.4-.4-.92-.59-1.43-.59-.52 0-1.04.2-1.43.59L10.3 9.45l-7.72 7.72c-.78.78-.78 2.05 0 2.83L4 21.41c.39.39.9.59 1.41.59.51 0 1.02-.2 1.41-.59l7.78-7.78 2.81-2.81c.8-.78.8-2.07 0-2.86zM5.41 20L4 18.59l7.72-7.72 1.47 1.35L5.41 20z\"/>\n",
              "  </svg>\n",
              "      </button>\n",
              "      \n",
              "  <style>\n",
              "    .colab-df-container {\n",
              "      display:flex;\n",
              "      flex-wrap:wrap;\n",
              "      gap: 12px;\n",
              "    }\n",
              "\n",
              "    .colab-df-convert {\n",
              "      background-color: #E8F0FE;\n",
              "      border: none;\n",
              "      border-radius: 50%;\n",
              "      cursor: pointer;\n",
              "      display: none;\n",
              "      fill: #1967D2;\n",
              "      height: 32px;\n",
              "      padding: 0 0 0 0;\n",
              "      width: 32px;\n",
              "    }\n",
              "\n",
              "    .colab-df-convert:hover {\n",
              "      background-color: #E2EBFA;\n",
              "      box-shadow: 0px 1px 2px rgba(60, 64, 67, 0.3), 0px 1px 3px 1px rgba(60, 64, 67, 0.15);\n",
              "      fill: #174EA6;\n",
              "    }\n",
              "\n",
              "    [theme=dark] .colab-df-convert {\n",
              "      background-color: #3B4455;\n",
              "      fill: #D2E3FC;\n",
              "    }\n",
              "\n",
              "    [theme=dark] .colab-df-convert:hover {\n",
              "      background-color: #434B5C;\n",
              "      box-shadow: 0px 1px 3px 1px rgba(0, 0, 0, 0.15);\n",
              "      filter: drop-shadow(0px 1px 2px rgba(0, 0, 0, 0.3));\n",
              "      fill: #FFFFFF;\n",
              "    }\n",
              "  </style>\n",
              "\n",
              "      <script>\n",
              "        const buttonEl =\n",
              "          document.querySelector('#df-f954780c-008c-406c-8651-1c39de9a208a button.colab-df-convert');\n",
              "        buttonEl.style.display =\n",
              "          google.colab.kernel.accessAllowed ? 'block' : 'none';\n",
              "\n",
              "        async function convertToInteractive(key) {\n",
              "          const element = document.querySelector('#df-f954780c-008c-406c-8651-1c39de9a208a');\n",
              "          const dataTable =\n",
              "            await google.colab.kernel.invokeFunction('convertToInteractive',\n",
              "                                                     [key], {});\n",
              "          if (!dataTable) return;\n",
              "\n",
              "          const docLinkHtml = 'Like what you see? Visit the ' +\n",
              "            '<a target=\"_blank\" href=https://colab.research.google.com/notebooks/data_table.ipynb>data table notebook</a>'\n",
              "            + ' to learn more about interactive tables.';\n",
              "          element.innerHTML = '';\n",
              "          dataTable['output_type'] = 'display_data';\n",
              "          await google.colab.output.renderOutput(dataTable, element);\n",
              "          const docLink = document.createElement('div');\n",
              "          docLink.innerHTML = docLinkHtml;\n",
              "          element.appendChild(docLink);\n",
              "        }\n",
              "      </script>\n",
              "    </div>\n",
              "  </div>\n",
              "  "
            ]
          },
          "metadata": {},
          "execution_count": 39
        }
      ],
      "source": [
        "#save data\n",
        "dataset['category'] = cat\n",
        "dataset['description'] = desc\n",
        "dataset"
      ],
      "id": "g8h8ZPXEdTJV"
    },
    {
      "cell_type": "code",
      "execution_count": 40,
      "metadata": {
        "id": "-YK3fC7edd0u"
      },
      "outputs": [],
      "source": [
        "dataset.to_csv(\"wisatabali.csv\")"
      ],
      "id": "-YK3fC7edd0u"
    },
    {
      "cell_type": "markdown",
      "metadata": {
        "id": "jgRajKNCHq1S"
      },
      "source": [
        "#Recommendation"
      ],
      "id": "jgRajKNCHq1S"
    },
    {
      "cell_type": "code",
      "execution_count": 41,
      "metadata": {
        "colab": {
          "base_uri": "https://localhost:8080/",
          "height": 669
        },
        "id": "r79vd6wtdnEZ",
        "outputId": "fbe9ef68-2415-4043-ef7a-66a1efec4943"
      },
      "outputs": [
        {
          "output_type": "execute_result",
          "data": {
            "text/plain": [
              "   Unnamed: 0    category                                             tags  \\\n",
              "0           0  Agrowisata   Agrowisata, Gianyar, Dekat dari Bandara, Mahal   \n",
              "1           1  Agrowisata  Agrowisata, Gianyar, Sedang dari Bandara, Mahal   \n",
              "2           2  Agrowisata  Agrowisata, Denpasar, Dekat dari Bandara, Murah   \n",
              "3           3  Agrowisata  Agrowisata, Gianyar, Dekat dari Bandara, Gratis   \n",
              "4           4  Agrowisata  Agrowisata, Tabanan, Sedang dari Bandara, Murah   \n",
              "\n",
              "   weekend_price  weekday_price distance  rating            place_name  \\\n",
              "0          50000          50000    dekat     3.0     Agrowisata Satria   \n",
              "1         300000         300000   sedang     5.0      Aloha Ubud Swing   \n",
              "2          35000          30000    dekat     4.0     Big Garden Corner   \n",
              "3              0              0    dekat     4.5   Campuhan Ridge Walk   \n",
              "4          40000          40000   sedang     4.5  Jatiluwih Green Land   \n",
              "\n",
              "       city                                              image  \\\n",
              "0   Gianyar  https://i0.wp.com/sabani.com/wp-content/upload...   \n",
              "1   Gianyar  https://static.cityspride.com/img/ruuu_1101/pr...   \n",
              "2  Denpasar  https://www.rentalmobilbali.net/wp-content/upl...   \n",
              "3   Gianyar  https://www.omnivagant.com/wp-content/uploads/...   \n",
              "4   Tabanan  https://img.freepik.com/premium-photo/green-ri...   \n",
              "\n",
              "                                         description  \n",
              "0  Agrowisata Satria menawarkan rasa Bali pada se...  \n",
              "1  Ajaklah orang-orang tercinta untuk mencoba ayu...  \n",
              "2  Objek wisata Big Garden Corner Sanur adalah se...  \n",
              "3  Campuhan Ridge Walk adalah sebuah trek jogging...  \n",
              "4  Nominasi untuk penunjukan sebagai situs Warisa...  "
            ],
            "text/html": [
              "\n",
              "  <div id=\"df-9dd310e2-1215-4fe0-9bb3-ddf8071233c7\">\n",
              "    <div class=\"colab-df-container\">\n",
              "      <div>\n",
              "<style scoped>\n",
              "    .dataframe tbody tr th:only-of-type {\n",
              "        vertical-align: middle;\n",
              "    }\n",
              "\n",
              "    .dataframe tbody tr th {\n",
              "        vertical-align: top;\n",
              "    }\n",
              "\n",
              "    .dataframe thead th {\n",
              "        text-align: right;\n",
              "    }\n",
              "</style>\n",
              "<table border=\"1\" class=\"dataframe\">\n",
              "  <thead>\n",
              "    <tr style=\"text-align: right;\">\n",
              "      <th></th>\n",
              "      <th>Unnamed: 0</th>\n",
              "      <th>category</th>\n",
              "      <th>tags</th>\n",
              "      <th>weekend_price</th>\n",
              "      <th>weekday_price</th>\n",
              "      <th>distance</th>\n",
              "      <th>rating</th>\n",
              "      <th>place_name</th>\n",
              "      <th>city</th>\n",
              "      <th>image</th>\n",
              "      <th>description</th>\n",
              "    </tr>\n",
              "  </thead>\n",
              "  <tbody>\n",
              "    <tr>\n",
              "      <th>0</th>\n",
              "      <td>0</td>\n",
              "      <td>Agrowisata</td>\n",
              "      <td>Agrowisata, Gianyar, Dekat dari Bandara, Mahal</td>\n",
              "      <td>50000</td>\n",
              "      <td>50000</td>\n",
              "      <td>dekat</td>\n",
              "      <td>3.0</td>\n",
              "      <td>Agrowisata Satria</td>\n",
              "      <td>Gianyar</td>\n",
              "      <td>https://i0.wp.com/sabani.com/wp-content/upload...</td>\n",
              "      <td>Agrowisata Satria menawarkan rasa Bali pada se...</td>\n",
              "    </tr>\n",
              "    <tr>\n",
              "      <th>1</th>\n",
              "      <td>1</td>\n",
              "      <td>Agrowisata</td>\n",
              "      <td>Agrowisata, Gianyar, Sedang dari Bandara, Mahal</td>\n",
              "      <td>300000</td>\n",
              "      <td>300000</td>\n",
              "      <td>sedang</td>\n",
              "      <td>5.0</td>\n",
              "      <td>Aloha Ubud Swing</td>\n",
              "      <td>Gianyar</td>\n",
              "      <td>https://static.cityspride.com/img/ruuu_1101/pr...</td>\n",
              "      <td>Ajaklah orang-orang tercinta untuk mencoba ayu...</td>\n",
              "    </tr>\n",
              "    <tr>\n",
              "      <th>2</th>\n",
              "      <td>2</td>\n",
              "      <td>Agrowisata</td>\n",
              "      <td>Agrowisata, Denpasar, Dekat dari Bandara, Murah</td>\n",
              "      <td>35000</td>\n",
              "      <td>30000</td>\n",
              "      <td>dekat</td>\n",
              "      <td>4.0</td>\n",
              "      <td>Big Garden Corner</td>\n",
              "      <td>Denpasar</td>\n",
              "      <td>https://www.rentalmobilbali.net/wp-content/upl...</td>\n",
              "      <td>Objek wisata Big Garden Corner Sanur adalah se...</td>\n",
              "    </tr>\n",
              "    <tr>\n",
              "      <th>3</th>\n",
              "      <td>3</td>\n",
              "      <td>Agrowisata</td>\n",
              "      <td>Agrowisata, Gianyar, Dekat dari Bandara, Gratis</td>\n",
              "      <td>0</td>\n",
              "      <td>0</td>\n",
              "      <td>dekat</td>\n",
              "      <td>4.5</td>\n",
              "      <td>Campuhan Ridge Walk</td>\n",
              "      <td>Gianyar</td>\n",
              "      <td>https://www.omnivagant.com/wp-content/uploads/...</td>\n",
              "      <td>Campuhan Ridge Walk adalah sebuah trek jogging...</td>\n",
              "    </tr>\n",
              "    <tr>\n",
              "      <th>4</th>\n",
              "      <td>4</td>\n",
              "      <td>Agrowisata</td>\n",
              "      <td>Agrowisata, Tabanan, Sedang dari Bandara, Murah</td>\n",
              "      <td>40000</td>\n",
              "      <td>40000</td>\n",
              "      <td>sedang</td>\n",
              "      <td>4.5</td>\n",
              "      <td>Jatiluwih Green Land</td>\n",
              "      <td>Tabanan</td>\n",
              "      <td>https://img.freepik.com/premium-photo/green-ri...</td>\n",
              "      <td>Nominasi untuk penunjukan sebagai situs Warisa...</td>\n",
              "    </tr>\n",
              "  </tbody>\n",
              "</table>\n",
              "</div>\n",
              "      <button class=\"colab-df-convert\" onclick=\"convertToInteractive('df-9dd310e2-1215-4fe0-9bb3-ddf8071233c7')\"\n",
              "              title=\"Convert this dataframe to an interactive table.\"\n",
              "              style=\"display:none;\">\n",
              "        \n",
              "  <svg xmlns=\"http://www.w3.org/2000/svg\" height=\"24px\"viewBox=\"0 0 24 24\"\n",
              "       width=\"24px\">\n",
              "    <path d=\"M0 0h24v24H0V0z\" fill=\"none\"/>\n",
              "    <path d=\"M18.56 5.44l.94 2.06.94-2.06 2.06-.94-2.06-.94-.94-2.06-.94 2.06-2.06.94zm-11 1L8.5 8.5l.94-2.06 2.06-.94-2.06-.94L8.5 2.5l-.94 2.06-2.06.94zm10 10l.94 2.06.94-2.06 2.06-.94-2.06-.94-.94-2.06-.94 2.06-2.06.94z\"/><path d=\"M17.41 7.96l-1.37-1.37c-.4-.4-.92-.59-1.43-.59-.52 0-1.04.2-1.43.59L10.3 9.45l-7.72 7.72c-.78.78-.78 2.05 0 2.83L4 21.41c.39.39.9.59 1.41.59.51 0 1.02-.2 1.41-.59l7.78-7.78 2.81-2.81c.8-.78.8-2.07 0-2.86zM5.41 20L4 18.59l7.72-7.72 1.47 1.35L5.41 20z\"/>\n",
              "  </svg>\n",
              "      </button>\n",
              "      \n",
              "  <style>\n",
              "    .colab-df-container {\n",
              "      display:flex;\n",
              "      flex-wrap:wrap;\n",
              "      gap: 12px;\n",
              "    }\n",
              "\n",
              "    .colab-df-convert {\n",
              "      background-color: #E8F0FE;\n",
              "      border: none;\n",
              "      border-radius: 50%;\n",
              "      cursor: pointer;\n",
              "      display: none;\n",
              "      fill: #1967D2;\n",
              "      height: 32px;\n",
              "      padding: 0 0 0 0;\n",
              "      width: 32px;\n",
              "    }\n",
              "\n",
              "    .colab-df-convert:hover {\n",
              "      background-color: #E2EBFA;\n",
              "      box-shadow: 0px 1px 2px rgba(60, 64, 67, 0.3), 0px 1px 3px 1px rgba(60, 64, 67, 0.15);\n",
              "      fill: #174EA6;\n",
              "    }\n",
              "\n",
              "    [theme=dark] .colab-df-convert {\n",
              "      background-color: #3B4455;\n",
              "      fill: #D2E3FC;\n",
              "    }\n",
              "\n",
              "    [theme=dark] .colab-df-convert:hover {\n",
              "      background-color: #434B5C;\n",
              "      box-shadow: 0px 1px 3px 1px rgba(0, 0, 0, 0.15);\n",
              "      filter: drop-shadow(0px 1px 2px rgba(0, 0, 0, 0.3));\n",
              "      fill: #FFFFFF;\n",
              "    }\n",
              "  </style>\n",
              "\n",
              "      <script>\n",
              "        const buttonEl =\n",
              "          document.querySelector('#df-9dd310e2-1215-4fe0-9bb3-ddf8071233c7 button.colab-df-convert');\n",
              "        buttonEl.style.display =\n",
              "          google.colab.kernel.accessAllowed ? 'block' : 'none';\n",
              "\n",
              "        async function convertToInteractive(key) {\n",
              "          const element = document.querySelector('#df-9dd310e2-1215-4fe0-9bb3-ddf8071233c7');\n",
              "          const dataTable =\n",
              "            await google.colab.kernel.invokeFunction('convertToInteractive',\n",
              "                                                     [key], {});\n",
              "          if (!dataTable) return;\n",
              "\n",
              "          const docLinkHtml = 'Like what you see? Visit the ' +\n",
              "            '<a target=\"_blank\" href=https://colab.research.google.com/notebooks/data_table.ipynb>data table notebook</a>'\n",
              "            + ' to learn more about interactive tables.';\n",
              "          element.innerHTML = '';\n",
              "          dataTable['output_type'] = 'display_data';\n",
              "          await google.colab.output.renderOutput(dataTable, element);\n",
              "          const docLink = document.createElement('div');\n",
              "          docLink.innerHTML = docLinkHtml;\n",
              "          element.appendChild(docLink);\n",
              "        }\n",
              "      </script>\n",
              "    </div>\n",
              "  </div>\n",
              "  "
            ]
          },
          "metadata": {},
          "execution_count": 41
        }
      ],
      "source": [
        "# loading the data from the csv file to apandas dataframe\n",
        "dataset = pd.read_csv(\"wisatabali.csv\").dropna()\n",
        "dataset.head()"
      ],
      "id": "r79vd6wtdnEZ"
    },
    {
      "cell_type": "code",
      "execution_count": 42,
      "metadata": {
        "id": "024c0643"
      },
      "outputs": [],
      "source": [
        "def important_features(dataset):\n",
        "    data=dataset.copy()\n",
        "    for i in range(0, dataset.shape[0]):\n",
        "        data[\"imp\"]= data[\"category\"]+\" \"+data[\"tags\"]\n",
        "    return data\n"
      ],
      "id": "024c0643"
    },
    {
      "cell_type": "code",
      "execution_count": 16,
      "metadata": {
        "id": "87b48772"
      },
      "outputs": [],
      "source": [
        "data=important_features(dataset)"
      ],
      "id": "87b48772"
    },
    {
      "cell_type": "code",
      "execution_count": 43,
      "metadata": {
        "colab": {
          "base_uri": "https://localhost:8080/",
          "height": 669
        },
        "id": "f7d434fa",
        "outputId": "0e78af0f-b269-4474-8db9-a8a0f7c7ebcb"
      },
      "outputs": [
        {
          "output_type": "execute_result",
          "data": {
            "text/plain": [
              "   Unnamed: 0    category                                          tags  \\\n",
              "0           0  Agrowisata   Agrowisata Gianyar Dekat dari Bandara Mahal   \n",
              "1           1  Agrowisata  Agrowisata Gianyar Sedang dari Bandara Mahal   \n",
              "2           2  Agrowisata  Agrowisata Denpasar Dekat dari Bandara Murah   \n",
              "3           3  Agrowisata  Agrowisata Gianyar Dekat dari Bandara Gratis   \n",
              "4           4  Agrowisata  Agrowisata Tabanan Sedang dari Bandara Murah   \n",
              "\n",
              "   weekend_price  weekday_price distance  rating            place_name  \\\n",
              "0          50000          50000    dekat     3.0     Agrowisata Satria   \n",
              "1         300000         300000   sedang     5.0      Aloha Ubud Swing   \n",
              "2          35000          30000    dekat     4.0     Big Garden Corner   \n",
              "3              0              0    dekat     4.5   Campuhan Ridge Walk   \n",
              "4          40000          40000   sedang     4.5  Jatiluwih Green Land   \n",
              "\n",
              "       city                                              image  \\\n",
              "0   Gianyar  https://drive.google.com/file/d/108VxoEhKsyV2_...   \n",
              "1   Gianyar  https://drive.google.com/file/d/1bvzte6xbyb6Ey...   \n",
              "2  Denpasar  https://drive.google.com/file/d/12UMKldf_s7zGI...   \n",
              "3   Gianyar  https://drive.google.com/file/d/1eVpiUN3lv1uzV...   \n",
              "4   Tabanan  https://drive.google.com/file/d/1vX9x5gLEmQKdg...   \n",
              "\n",
              "                                         description  \\\n",
              "0  Agrowisata Satria menawarkan rasa Bali pada se...   \n",
              "1  Ajaklah orang-orang tercinta untuk mencoba ayu...   \n",
              "2  Objek wisata Big Garden Corner Sanur adalah se...   \n",
              "3  Campuhan Ridge Walk adalah sebuah trek jogging...   \n",
              "4  Nominasi untuk penunjukan sebagai situs Warisa...   \n",
              "\n",
              "                                                 imp  ids  \n",
              "0  Agrowisata Agrowisata Gianyar Dekat dari Banda...    0  \n",
              "1  Agrowisata Agrowisata Gianyar Sedang dari Band...    1  \n",
              "2  Agrowisata Agrowisata Denpasar Dekat dari Band...    2  \n",
              "3  Agrowisata Agrowisata Gianyar Dekat dari Banda...    3  \n",
              "4  Agrowisata Agrowisata Tabanan Sedang dari Band...    4  "
            ],
            "text/html": [
              "\n",
              "  <div id=\"df-a9795a13-b1d9-4b81-955e-e4757a9ed09c\">\n",
              "    <div class=\"colab-df-container\">\n",
              "      <div>\n",
              "<style scoped>\n",
              "    .dataframe tbody tr th:only-of-type {\n",
              "        vertical-align: middle;\n",
              "    }\n",
              "\n",
              "    .dataframe tbody tr th {\n",
              "        vertical-align: top;\n",
              "    }\n",
              "\n",
              "    .dataframe thead th {\n",
              "        text-align: right;\n",
              "    }\n",
              "</style>\n",
              "<table border=\"1\" class=\"dataframe\">\n",
              "  <thead>\n",
              "    <tr style=\"text-align: right;\">\n",
              "      <th></th>\n",
              "      <th>Unnamed: 0</th>\n",
              "      <th>category</th>\n",
              "      <th>tags</th>\n",
              "      <th>weekend_price</th>\n",
              "      <th>weekday_price</th>\n",
              "      <th>distance</th>\n",
              "      <th>rating</th>\n",
              "      <th>place_name</th>\n",
              "      <th>city</th>\n",
              "      <th>image</th>\n",
              "      <th>description</th>\n",
              "      <th>imp</th>\n",
              "      <th>ids</th>\n",
              "    </tr>\n",
              "  </thead>\n",
              "  <tbody>\n",
              "    <tr>\n",
              "      <th>0</th>\n",
              "      <td>0</td>\n",
              "      <td>Agrowisata</td>\n",
              "      <td>Agrowisata Gianyar Dekat dari Bandara Mahal</td>\n",
              "      <td>50000</td>\n",
              "      <td>50000</td>\n",
              "      <td>dekat</td>\n",
              "      <td>3.0</td>\n",
              "      <td>Agrowisata Satria</td>\n",
              "      <td>Gianyar</td>\n",
              "      <td>https://drive.google.com/file/d/108VxoEhKsyV2_...</td>\n",
              "      <td>Agrowisata Satria menawarkan rasa Bali pada se...</td>\n",
              "      <td>Agrowisata Agrowisata Gianyar Dekat dari Banda...</td>\n",
              "      <td>0</td>\n",
              "    </tr>\n",
              "    <tr>\n",
              "      <th>1</th>\n",
              "      <td>1</td>\n",
              "      <td>Agrowisata</td>\n",
              "      <td>Agrowisata Gianyar Sedang dari Bandara Mahal</td>\n",
              "      <td>300000</td>\n",
              "      <td>300000</td>\n",
              "      <td>sedang</td>\n",
              "      <td>5.0</td>\n",
              "      <td>Aloha Ubud Swing</td>\n",
              "      <td>Gianyar</td>\n",
              "      <td>https://drive.google.com/file/d/1bvzte6xbyb6Ey...</td>\n",
              "      <td>Ajaklah orang-orang tercinta untuk mencoba ayu...</td>\n",
              "      <td>Agrowisata Agrowisata Gianyar Sedang dari Band...</td>\n",
              "      <td>1</td>\n",
              "    </tr>\n",
              "    <tr>\n",
              "      <th>2</th>\n",
              "      <td>2</td>\n",
              "      <td>Agrowisata</td>\n",
              "      <td>Agrowisata Denpasar Dekat dari Bandara Murah</td>\n",
              "      <td>35000</td>\n",
              "      <td>30000</td>\n",
              "      <td>dekat</td>\n",
              "      <td>4.0</td>\n",
              "      <td>Big Garden Corner</td>\n",
              "      <td>Denpasar</td>\n",
              "      <td>https://drive.google.com/file/d/12UMKldf_s7zGI...</td>\n",
              "      <td>Objek wisata Big Garden Corner Sanur adalah se...</td>\n",
              "      <td>Agrowisata Agrowisata Denpasar Dekat dari Band...</td>\n",
              "      <td>2</td>\n",
              "    </tr>\n",
              "    <tr>\n",
              "      <th>3</th>\n",
              "      <td>3</td>\n",
              "      <td>Agrowisata</td>\n",
              "      <td>Agrowisata Gianyar Dekat dari Bandara Gratis</td>\n",
              "      <td>0</td>\n",
              "      <td>0</td>\n",
              "      <td>dekat</td>\n",
              "      <td>4.5</td>\n",
              "      <td>Campuhan Ridge Walk</td>\n",
              "      <td>Gianyar</td>\n",
              "      <td>https://drive.google.com/file/d/1eVpiUN3lv1uzV...</td>\n",
              "      <td>Campuhan Ridge Walk adalah sebuah trek jogging...</td>\n",
              "      <td>Agrowisata Agrowisata Gianyar Dekat dari Banda...</td>\n",
              "      <td>3</td>\n",
              "    </tr>\n",
              "    <tr>\n",
              "      <th>4</th>\n",
              "      <td>4</td>\n",
              "      <td>Agrowisata</td>\n",
              "      <td>Agrowisata Tabanan Sedang dari Bandara Murah</td>\n",
              "      <td>40000</td>\n",
              "      <td>40000</td>\n",
              "      <td>sedang</td>\n",
              "      <td>4.5</td>\n",
              "      <td>Jatiluwih Green Land</td>\n",
              "      <td>Tabanan</td>\n",
              "      <td>https://drive.google.com/file/d/1vX9x5gLEmQKdg...</td>\n",
              "      <td>Nominasi untuk penunjukan sebagai situs Warisa...</td>\n",
              "      <td>Agrowisata Agrowisata Tabanan Sedang dari Band...</td>\n",
              "      <td>4</td>\n",
              "    </tr>\n",
              "  </tbody>\n",
              "</table>\n",
              "</div>\n",
              "      <button class=\"colab-df-convert\" onclick=\"convertToInteractive('df-a9795a13-b1d9-4b81-955e-e4757a9ed09c')\"\n",
              "              title=\"Convert this dataframe to an interactive table.\"\n",
              "              style=\"display:none;\">\n",
              "        \n",
              "  <svg xmlns=\"http://www.w3.org/2000/svg\" height=\"24px\"viewBox=\"0 0 24 24\"\n",
              "       width=\"24px\">\n",
              "    <path d=\"M0 0h24v24H0V0z\" fill=\"none\"/>\n",
              "    <path d=\"M18.56 5.44l.94 2.06.94-2.06 2.06-.94-2.06-.94-.94-2.06-.94 2.06-2.06.94zm-11 1L8.5 8.5l.94-2.06 2.06-.94-2.06-.94L8.5 2.5l-.94 2.06-2.06.94zm10 10l.94 2.06.94-2.06 2.06-.94-2.06-.94-.94-2.06-.94 2.06-2.06.94z\"/><path d=\"M17.41 7.96l-1.37-1.37c-.4-.4-.92-.59-1.43-.59-.52 0-1.04.2-1.43.59L10.3 9.45l-7.72 7.72c-.78.78-.78 2.05 0 2.83L4 21.41c.39.39.9.59 1.41.59.51 0 1.02-.2 1.41-.59l7.78-7.78 2.81-2.81c.8-.78.8-2.07 0-2.86zM5.41 20L4 18.59l7.72-7.72 1.47 1.35L5.41 20z\"/>\n",
              "  </svg>\n",
              "      </button>\n",
              "      \n",
              "  <style>\n",
              "    .colab-df-container {\n",
              "      display:flex;\n",
              "      flex-wrap:wrap;\n",
              "      gap: 12px;\n",
              "    }\n",
              "\n",
              "    .colab-df-convert {\n",
              "      background-color: #E8F0FE;\n",
              "      border: none;\n",
              "      border-radius: 50%;\n",
              "      cursor: pointer;\n",
              "      display: none;\n",
              "      fill: #1967D2;\n",
              "      height: 32px;\n",
              "      padding: 0 0 0 0;\n",
              "      width: 32px;\n",
              "    }\n",
              "\n",
              "    .colab-df-convert:hover {\n",
              "      background-color: #E2EBFA;\n",
              "      box-shadow: 0px 1px 2px rgba(60, 64, 67, 0.3), 0px 1px 3px 1px rgba(60, 64, 67, 0.15);\n",
              "      fill: #174EA6;\n",
              "    }\n",
              "\n",
              "    [theme=dark] .colab-df-convert {\n",
              "      background-color: #3B4455;\n",
              "      fill: #D2E3FC;\n",
              "    }\n",
              "\n",
              "    [theme=dark] .colab-df-convert:hover {\n",
              "      background-color: #434B5C;\n",
              "      box-shadow: 0px 1px 3px 1px rgba(0, 0, 0, 0.15);\n",
              "      filter: drop-shadow(0px 1px 2px rgba(0, 0, 0, 0.3));\n",
              "      fill: #FFFFFF;\n",
              "    }\n",
              "  </style>\n",
              "\n",
              "      <script>\n",
              "        const buttonEl =\n",
              "          document.querySelector('#df-a9795a13-b1d9-4b81-955e-e4757a9ed09c button.colab-df-convert');\n",
              "        buttonEl.style.display =\n",
              "          google.colab.kernel.accessAllowed ? 'block' : 'none';\n",
              "\n",
              "        async function convertToInteractive(key) {\n",
              "          const element = document.querySelector('#df-a9795a13-b1d9-4b81-955e-e4757a9ed09c');\n",
              "          const dataTable =\n",
              "            await google.colab.kernel.invokeFunction('convertToInteractive',\n",
              "                                                     [key], {});\n",
              "          if (!dataTable) return;\n",
              "\n",
              "          const docLinkHtml = 'Like what you see? Visit the ' +\n",
              "            '<a target=\"_blank\" href=https://colab.research.google.com/notebooks/data_table.ipynb>data table notebook</a>'\n",
              "            + ' to learn more about interactive tables.';\n",
              "          element.innerHTML = '';\n",
              "          dataTable['output_type'] = 'display_data';\n",
              "          await google.colab.output.renderOutput(dataTable, element);\n",
              "          const docLink = document.createElement('div');\n",
              "          docLink.innerHTML = docLinkHtml;\n",
              "          element.appendChild(docLink);\n",
              "        }\n",
              "      </script>\n",
              "    </div>\n",
              "  </div>\n",
              "  "
            ]
          },
          "metadata": {},
          "execution_count": 43
        }
      ],
      "source": [
        "data.head()"
      ],
      "id": "f7d434fa"
    },
    {
      "cell_type": "code",
      "execution_count": 44,
      "metadata": {
        "id": "25dca716"
      },
      "outputs": [],
      "source": [
        "data[\"ids\"]=[i for i in range(0,data.shape[0])]"
      ],
      "id": "25dca716"
    },
    {
      "cell_type": "markdown",
      "metadata": {
        "id": "oU_1k4heH0Kc"
      },
      "source": [
        "##Importing vectoriser"
      ],
      "id": "oU_1k4heH0Kc"
    },
    {
      "cell_type": "code",
      "execution_count": 45,
      "metadata": {
        "id": "76bfc1ca"
      },
      "outputs": [],
      "source": [
        "from sklearn.feature_extraction.text import TfidfVectorizer\n",
        "import numpy as np\n",
        "vec=TfidfVectorizer()"
      ],
      "id": "76bfc1ca"
    },
    {
      "cell_type": "code",
      "execution_count": 46,
      "metadata": {
        "id": "963e52fd"
      },
      "outputs": [],
      "source": [
        "vecs=vec.fit_transform(data[\"imp\"].apply(lambda x: np.str_(x)))"
      ],
      "id": "963e52fd"
    },
    {
      "cell_type": "code",
      "execution_count": 47,
      "metadata": {
        "colab": {
          "base_uri": "https://localhost:8080/"
        },
        "id": "ba3206a6",
        "outputId": "d62fb558-0115-4086-d6b8-5db48a85f7c4"
      },
      "outputs": [
        {
          "output_type": "execute_result",
          "data": {
            "text/plain": [
              "(75, 22)"
            ]
          },
          "metadata": {},
          "execution_count": 47
        }
      ],
      "source": [
        "vecs.shape"
      ],
      "id": "ba3206a6"
    },
    {
      "cell_type": "code",
      "execution_count": 48,
      "metadata": {
        "id": "694de2ba"
      },
      "outputs": [],
      "source": [
        "from sklearn.metrics.pairwise import cosine_similarity"
      ],
      "id": "694de2ba"
    },
    {
      "cell_type": "code",
      "execution_count": 49,
      "metadata": {
        "colab": {
          "base_uri": "https://localhost:8080/"
        },
        "id": "6b7bfd07",
        "outputId": "bbdd7490-a06b-42a2-dc1a-ba207ea9453a"
      },
      "outputs": [
        {
          "output_type": "stream",
          "name": "stdout",
          "text": [
            "[[1.         0.94080748 0.74973552 ... 0.14489381 0.22954495 0.03596026]\n",
            " [0.94080748 1.         0.69742859 ... 0.23535769 0.18249954 0.03517785]\n",
            " [0.74973552 0.69742859 1.         ... 0.09844467 0.0801377  0.0857113 ]\n",
            " ...\n",
            " [0.14489381 0.23535769 0.09844467 ... 1.         0.68465895 0.67118511]\n",
            " [0.22954495 0.18249954 0.0801377  ... 0.68465895 1.         0.59610147]\n",
            " [0.03596026 0.03517785 0.0857113  ... 0.67118511 0.59610147 1.        ]]\n"
          ]
        }
      ],
      "source": [
        "sim=cosine_similarity(vecs) \n",
        "print(sim)"
      ],
      "id": "6b7bfd07"
    },
    {
      "cell_type": "code",
      "execution_count": 50,
      "metadata": {
        "id": "6f83c43b",
        "colab": {
          "base_uri": "https://localhost:8080/"
        },
        "outputId": "2d6cdd13-1e22-40b9-a820-b63958f944a7"
      },
      "outputs": [
        {
          "output_type": "execute_result",
          "data": {
            "text/plain": [
              "(75, 75)"
            ]
          },
          "metadata": {},
          "execution_count": 50
        }
      ],
      "source": [
        "sim.shape##Columns represnt movie-ids and not rows"
      ],
      "id": "6f83c43b"
    },
    {
      "cell_type": "code",
      "execution_count": 51,
      "metadata": {
        "colab": {
          "base_uri": "https://localhost:8080/"
        },
        "id": "384eb756",
        "outputId": "101f7f38-cd7c-45e5-d366-c06ebb0274d5"
      },
      "outputs": [
        {
          "output_type": "execute_result",
          "data": {
            "text/plain": [
              "0.03596026028903452"
            ]
          },
          "metadata": {},
          "execution_count": 51
        }
      ],
      "source": [
        "sim[0][74]"
      ],
      "id": "384eb756"
    },
    {
      "cell_type": "code",
      "execution_count": 52,
      "metadata": {
        "id": "4850392d"
      },
      "outputs": [],
      "source": [
        "def recommend(place):\n",
        "    place_id=data[data.category==place][\"ids\"].values[0]\n",
        "    scores=list(enumerate(sim[place_id]))\n",
        "    sorted_scores=sorted(scores,key=lambda x:x[1],reverse=True)\n",
        "    sorted_scores=sorted_scores[0:5]\n",
        "    place=[data[place[0]==data[\"ids\"]][\"place_name\"].values[0] for place in sorted_scores]\n",
        "    return place"
      ],
      "id": "4850392d"
    },
    {
      "cell_type": "code",
      "execution_count": 53,
      "metadata": {
        "id": "4a3ac27c"
      },
      "outputs": [],
      "source": [
        "def recommend_ten(place_list):\n",
        "    first_five=[]\n",
        "    count=0\n",
        "    for place in place_list:\n",
        "        if count > 4:\n",
        "            break\n",
        "        count+=1\n",
        "        first_five.append(place)\n",
        "    return first_five\n",
        "\n"
      ],
      "id": "4a3ac27c"
    },
    {
      "cell_type": "code",
      "execution_count": 57,
      "metadata": {
        "colab": {
          "base_uri": "https://localhost:8080/"
        },
        "id": "120117e7",
        "outputId": "6d198344-8c75-4003-99ae-42197e28a0d3"
      },
      "outputs": [
        {
          "name": "stdout",
          "output_type": "stream",
          "text": [
            "Enter your category : Belanja\n"
          ]
        },
        {
          "output_type": "execute_result",
          "data": {
            "text/plain": [
              "['Agung Bali',\n",
              " 'Pabrik Kata-Kata Joger',\n",
              " 'Galeri Seni Semar Kuning',\n",
              " 'Pasar Seni Tradisional Ubud',\n",
              " 'Pusat Kesenian Ukir Desa Mas']"
            ]
          },
          "metadata": {},
          "execution_count": 57
        }
      ],
      "source": [
        "categ = input('Enter your category : ')\n",
        "lst=recommend(categ)\n",
        "m=recommend_ten(lst)\n",
        "m"
      ],
      "id": "120117e7"
    },
    {
      "cell_type": "markdown",
      "source": [
        "##save data"
      ],
      "metadata": {
        "id": "6nlkpNRBFTUZ"
      },
      "id": "6nlkpNRBFTUZ"
    },
    {
      "cell_type": "code",
      "execution_count": 58,
      "metadata": {
        "id": "8PWPC6u8fyj5"
      },
      "outputs": [],
      "source": [
        "# Save dataframe\n",
        "pickle.dump(data.to_dict(), open('rec_wisata.pkl', 'wb'))"
      ],
      "id": "8PWPC6u8fyj5"
    },
    {
      "cell_type": "code",
      "execution_count": 59,
      "metadata": {
        "id": "Scq246GtpmS-"
      },
      "outputs": [],
      "source": [
        "# Save similarity\n",
        "pickle.dump(sim, open('similarity.pkl', 'wb'))"
      ],
      "id": "Scq246GtpmS-"
    }
  ],
  "metadata": {
    "colab": {
      "provenance": []
    },
    "kernelspec": {
      "display_name": "Python 3",
      "language": "python",
      "name": "python3"
    },
    "language_info": {
      "codemirror_mode": {
        "name": "ipython",
        "version": 3
      },
      "file_extension": ".py",
      "mimetype": "text/x-python",
      "name": "python",
      "nbconvert_exporter": "python",
      "pygments_lexer": "ipython3",
      "version": "3.8.8"
    }
  },
  "nbformat": 4,
  "nbformat_minor": 5
}